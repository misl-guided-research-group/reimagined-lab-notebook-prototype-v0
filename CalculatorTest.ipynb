{
 "cells": [
  {
   "cell_type": "code",
   "execution_count": 30,
   "metadata": {},
   "outputs": [],
   "source": [
    "import calculator as c\n",
    "import inventoryproto as ivp\n",
    "import pandas as pd "
   ]
  },
  {
   "cell_type": "code",
   "execution_count": 31,
   "metadata": {},
   "outputs": [
    {
     "data": {
      "application/vnd.jupyter.widget-view+json": {
       "model_id": "8ad06d2eb9d7466c8c167b9e72b82116",
       "version_major": 2,
       "version_minor": 0
      },
      "text/plain": [
       "Button(description='Add Component', layout=Layout(display='flex', flex_flow='row'), style=ButtonStyle())"
      ]
     },
     "metadata": {},
     "output_type": "display_data"
    },
    {
     "data": {
      "application/vnd.jupyter.widget-view+json": {
       "model_id": "46b4797a395e4e0d922834c171833a7d",
       "version_major": 2,
       "version_minor": 0
      },
      "text/plain": [
       "Button(description='Remove Component', layout=Layout(display='flex', flex_flow='row'), style=ButtonStyle())"
      ]
     },
     "metadata": {},
     "output_type": "display_data"
    },
    {
     "data": {
      "application/vnd.jupyter.widget-view+json": {
       "model_id": "d18d8fec46d74e10a0af2ecfaeb5f0e7",
       "version_major": 2,
       "version_minor": 0
      },
      "text/plain": [
       "Button(description='Display All Components', layout=Layout(display='flex', flex_flow='row'), style=ButtonStyle…"
      ]
     },
     "metadata": {},
     "output_type": "display_data"
    },
    {
     "data": {
      "application/vnd.jupyter.widget-view+json": {
       "model_id": "ded2f37f337e4405999105e13b194971",
       "version_major": 2,
       "version_minor": 0
      },
      "text/plain": [
       "Button(description='Search for Component', layout=Layout(display='flex', flex_flow='row'), style=ButtonStyle()…"
      ]
     },
     "metadata": {},
     "output_type": "display_data"
    }
   ],
   "source": [
    "inventory = ivp.Inventory()\n",
    "\n",
    "member = ivp.Member(\"Donavan\", \"Doan\")\n",
    "m1 = ivp.Component(member, \"MgCl^2\", \"1M\", False)\n",
    "m2 = ivp.Component(member, \"TE\", \"100mM\", False)\n",
    "\n",
    "inventory.add_component(m1) \n",
    "inventory.add_component(m2) \n",
    "\n",
    "calculator = c.Calculator(inventory)"
   ]
  },
  {
   "cell_type": "code",
   "execution_count": 32,
   "metadata": {},
   "outputs": [
    {
     "name": "stdout",
     "output_type": "stream",
     "text": [
      "MgCl^2_1M\n"
     ]
    }
   ],
   "source": [
    "print_component = inventory.get_component(m1.component_id) \n",
    "print(print_component)\n",
    "print(type(print_component))"
   ]
  },
  {
   "cell_type": "code",
   "execution_count": 33,
   "metadata": {},
   "outputs": [
    {
     "name": "stdout",
     "output_type": "stream",
     "text": [
      "Component with ID MgCl^2_1M is in the inventory!\n"
     ]
    },
    {
     "ename": "AttributeError",
     "evalue": "'str' object has no attribute 'component_name'",
     "output_type": "error",
     "traceback": [
      "\u001b[1;31m---------------------------------------------------------------------------\u001b[0m",
      "\u001b[1;31mAttributeError\u001b[0m                            Traceback (most recent call last)",
      "Cell \u001b[1;32mIn[33], line 1\u001b[0m\n\u001b[1;32m----> 1\u001b[0m mix \u001b[39m=\u001b[39m calculator\u001b[39m.\u001b[39;49mcreate_mix(\u001b[39m\"\u001b[39;49m\u001b[39m1x TE/10X Mg^2\u001b[39;49m\u001b[39m\"\u001b[39;49m, \u001b[39m\"\u001b[39;49m\u001b[39m5 mL\u001b[39;49m\u001b[39m\"\u001b[39;49m)\n\u001b[0;32m      2\u001b[0m mix\n",
      "File \u001b[1;32mc:\\Users\\doand\\Desktop\\Reimagining Lab Notebook\\reimagined-lab-notebook-prototype-v0\\calculator.py:33\u001b[0m, in \u001b[0;36mCalculator.create_mix\u001b[1;34m(self, name, volume)\u001b[0m\n\u001b[0;32m     31\u001b[0m     \u001b[39mif\u001b[39;00m \u001b[39mself\u001b[39m\u001b[39m.\u001b[39minventory\u001b[39m.\u001b[39mfind_component(component_id): \n\u001b[0;32m     32\u001b[0m         c \u001b[39m=\u001b[39m \u001b[39mself\u001b[39m\u001b[39m.\u001b[39minventory\u001b[39m.\u001b[39mget_component(component_id)\n\u001b[1;32m---> 33\u001b[0m         mixing_components\u001b[39m.\u001b[39mappend((Component(c\u001b[39m.\u001b[39;49mcomponent_name, c\u001b[39m.\u001b[39mconcentration), temp[\u001b[39m1\u001b[39m]))\n\u001b[0;32m     35\u001b[0m \u001b[39m# Returns a Mix from alhambra\u001b[39;00m\n\u001b[0;32m     36\u001b[0m \u001b[39mreturn\u001b[39;00m Mix(\n\u001b[0;32m     37\u001b[0m [\n\u001b[0;32m     38\u001b[0m     FixedConcentration(c[\u001b[39m0\u001b[39m], c[\u001b[39m1\u001b[39m]) \u001b[39mfor\u001b[39;00m c \u001b[39min\u001b[39;00m mixing_components \n\u001b[1;32m   (...)\u001b[0m\n\u001b[0;32m     42\u001b[0m fixed_total_volume\u001b[39m=\u001b[39mvolume\n\u001b[0;32m     43\u001b[0m )\n",
      "\u001b[1;31mAttributeError\u001b[0m: 'str' object has no attribute 'component_name'"
     ]
    }
   ],
   "source": [
    "mix = calculator.create_mix(\"1x TE/10X Mg^2\", \"5 mL\")\n",
    "mix"
   ]
  }
 ],
 "metadata": {
  "kernelspec": {
   "display_name": "Python 3",
   "language": "python",
   "name": "python3"
  },
  "language_info": {
   "codemirror_mode": {
    "name": "ipython",
    "version": 3
   },
   "file_extension": ".py",
   "mimetype": "text/x-python",
   "name": "python",
   "nbconvert_exporter": "python",
   "pygments_lexer": "ipython3",
   "version": "3.10.10"
  },
  "orig_nbformat": 4
 },
 "nbformat": 4,
 "nbformat_minor": 2
}
