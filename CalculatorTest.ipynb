{
 "cells": [
  {
   "cell_type": "code",
   "execution_count": null,
   "metadata": {},
   "outputs": [],
   "source": [
    "import calculator as c\n",
    "import inventoryproto as ivp\n",
    "import pandas as pd "
   ]
  },
  {
   "cell_type": "code",
   "execution_count": null,
   "metadata": {},
   "outputs": [],
   "source": [
    "inventory = ivp.Inventory()\n",
    "\n",
    "member = ivp.Member(\"Donavan\", \"Doan\")\n",
    "m1 = ivp.Component(member, \"MgCl^2\", \"1M\", False)\n",
    "m2 = ivp.Component(member, \"TE\", \"100mM\", False)\n",
    "\n",
    "inventory.add_component(m1) \n",
    "inventory.add_component(m2) \n",
    "\n",
    "calculator = c.Calculator(inventory)\n",
    "test = calculator.search_for_recipes()\n",
    "display(test)"
   ]
  },
  {
   "cell_type": "code",
   "execution_count": null,
   "metadata": {},
   "outputs": [],
   "source": [
    "print_component = inventory.get_component(m1.component_id) \n",
    "print(print_component)\n",
    "print(type(print_component))"
   ]
  },
  {
   "cell_type": "code",
   "execution_count": null,
   "metadata": {},
   "outputs": [],
   "source": [
    "mix = calculator.create_mix(\"1x TE/10X Mg^2\", \"5 mL\")\n",
    "mix"
   ]
  }
 ],
 "metadata": {
  "kernelspec": {
   "display_name": "Python 3",
   "language": "python",
   "name": "python3"
  },
  "language_info": {
   "codemirror_mode": {
    "name": "ipython",
    "version": 3
   },
   "file_extension": ".py",
   "mimetype": "text/x-python",
   "name": "python",
   "nbconvert_exporter": "python",
   "pygments_lexer": "ipython3",
   "version": "3.9.13"
  },
  "orig_nbformat": 4
 },
 "nbformat": 4,
 "nbformat_minor": 2
}
