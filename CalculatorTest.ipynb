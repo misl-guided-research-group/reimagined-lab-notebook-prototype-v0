{
 "cells": [
  {
   "cell_type": "code",
   "execution_count": 1,
   "metadata": {},
   "outputs": [
    {
     "ename": "IndentationError",
     "evalue": "expected an indented block (calculator.py, line 56)",
     "output_type": "error",
     "traceback": [
      "Traceback \u001b[0;36m(most recent call last)\u001b[0m:\n",
      "\u001b[0m  File \u001b[1;32m/usr/lib/python3.9/site-packages/IPython/core/interactiveshell.py:3378\u001b[0m in \u001b[1;35mrun_code\u001b[0m\n    exec(code_obj, self.user_global_ns, self.user_ns)\u001b[0m\n",
      "\u001b[0;36m  Cell \u001b[0;32mIn [1], line 1\u001b[0;36m\n\u001b[0;31m    import calculator as c\u001b[0;36m\n",
      "\u001b[0;36m  File \u001b[0;32m~/reimagined-lab-notebook-prototype-v0/reimagined-lab-notebook-prototype-v0/calculator.py:56\u001b[0;36m\u001b[0m\n\u001b[0;31m    print(recipes)\u001b[0m\n\u001b[0m    ^\u001b[0m\n\u001b[0;31mIndentationError\u001b[0m\u001b[0;31m:\u001b[0m expected an indented block\n"
     ]
    }
   ],
   "source": [
    "import calculator as c\n",
    "import inventory as ivp\n",
    "import pandas as pd "
   ]
  },
  {
   "cell_type": "code",
   "execution_count": null,
   "metadata": {},
   "outputs": [
    {
     "data": {
      "application/vnd.jupyter.widget-view+json": {
       "model_id": "dd2e2991f4914a8ba52afdfa02964cf5",
       "version_major": 2,
       "version_minor": 0
      },
      "text/plain": [
       "Button(description='Add Component', layout=Layout(display='flex', flex_flow='row'), style=ButtonStyle())"
      ]
     },
     "metadata": {},
     "output_type": "display_data"
    },
    {
     "data": {
      "application/vnd.jupyter.widget-view+json": {
       "model_id": "cd08fc11e1664c96b1611108d60c4639",
       "version_major": 2,
       "version_minor": 0
      },
      "text/plain": [
       "Button(description='Remove Component', layout=Layout(display='flex', flex_flow='row'), style=ButtonStyle())"
      ]
     },
     "metadata": {},
     "output_type": "display_data"
    },
    {
     "data": {
      "application/vnd.jupyter.widget-view+json": {
       "model_id": "06968121799543dba9f40837c3e539e6",
       "version_major": 2,
       "version_minor": 0
      },
      "text/plain": [
       "Button(description='Display All Components', layout=Layout(display='flex', flex_flow='row'), style=ButtonStyle…"
      ]
     },
     "metadata": {},
     "output_type": "display_data"
    },
    {
     "data": {
      "application/vnd.jupyter.widget-view+json": {
       "model_id": "f161315429d449d7a3c0c6c1676db6ad",
       "version_major": 2,
       "version_minor": 0
      },
      "text/plain": [
       "Button(description='Search for Component', layout=Layout(display='flex', flex_flow='row'), style=ButtonStyle()…"
      ]
     },
     "metadata": {},
     "output_type": "display_data"
    },
    {
     "data": {
      "application/vnd.jupyter.widget-view+json": {
       "model_id": "6d0b83c99345499aba1e9d23ad59787f",
       "version_major": 2,
       "version_minor": 0
      },
      "text/plain": [
       "Dropdown(description='Search for mixture:', options=('MgCI_10X', 'h20', 'NacI_1X'), value='MgCI_10X')"
      ]
     },
     "metadata": {},
     "output_type": "display_data"
    },
    {
     "name": "stdout",
     "output_type": "stream",
     "text": [
      "Clicked\n",
      "Clicked\n",
      "Clicked\n",
      "Clicked\n"
     ]
    },
    {
     "data": {
      "application/vnd.jupyter.widget-view+json": {
       "model_id": "4f01f0c104d54d2c9864d14cc83b5707",
       "version_major": 2,
       "version_minor": 0
      },
      "text/plain": [
       "Sheet(cells=(Cell(column_end=0, column_start=0, row_end=0, row_start=0, type='text', value='Component ID'), Ce…"
      ]
     },
     "metadata": {},
     "output_type": "display_data"
    },
    {
     "data": {
      "application/vnd.jupyter.widget-view+json": {
       "model_id": "4f01f0c104d54d2c9864d14cc83b5707",
       "version_major": 2,
       "version_minor": 0
      },
      "text/plain": [
       "Sheet(cells=(Cell(column_end=0, column_start=0, row_end=0, row_start=0, type='text', value='Component ID'), Ce…"
      ]
     },
     "metadata": {},
     "output_type": "display_data"
    },
    {
     "name": "stdout",
     "output_type": "stream",
     "text": [
      "Clicked\n"
     ]
    }
   ],
   "source": [
    "inventory = ivp.Inventory()\n",
    "\n",
    "member = ivp.Member(\"Donavan\", \"Doan\")\n",
    "m1 = ivp.Component(member, \"MgCl^2\", \"1M\", False)\n",
    "m2 = ivp.Component(member, \"TE\", \"100mM\", False)\n",
    "\n",
    "inventory.add_component(m1) \n",
    "inventory.add_component(m2) \n",
    "\n",
    "calculator = c.Calculator(inventory)\n",
    "test = calculator.search_for_recipes()\n",
    "display(test)"
   ]
  },
  {
   "cell_type": "code",
   "execution_count": null,
   "metadata": {},
   "outputs": [
    {
     "name": "stdout",
     "output_type": "stream",
     "text": [
      "MgCl^2_1M\n",
      "<class 'str'>\n"
     ]
    }
   ],
   "source": [
    "print_component = inventory.get_component(m1.component_id) \n",
    "print(print_component)\n",
    "print(type(print_component))"
   ]
  },
  {
   "cell_type": "code",
   "execution_count": null,
   "metadata": {},
   "outputs": [
    {
     "name": "stdout",
     "output_type": "stream",
     "text": [
      "MgCl^2_1M\n",
      "Component with ID MgCl^2_1M is in the inventory!\n",
      "TE_100mM\n",
      "Component with ID TE_100mM is in the inventory!\n"
     ]
    },
    {
     "data": {
      "text/html": [
       "<p>Table: Mix: 1x TE/10X Mg^2, Conc: 125.00 mM, Total Vol: 5.00 ml</p>\n",
       "<table>\n",
       "<thead>\n",
       "<tr><th>Component      </th><th>[Src]    </th><th>[Dest]            </th><th>#         </th><th>Ea Tx Vol  </th><th>Tot Tx Vol      </th><th>Location  </th><th>Note  </th></tr>\n",
       "</thead>\n",
       "<tbody>\n",
       "<tr><td>MgCl^2         </td><td>1.00 M   </td><td>125.00 mM         </td><td>          </td><td>625.00 µl  </td><td>625.00 µl       </td><td>          </td><td>      </td></tr>\n",
       "<tr><td>TE             </td><td>100.00 mM</td><td>1.00 mM           </td><td>          </td><td>50.00 µl   </td><td>50.00 µl        </td><td>          </td><td>      </td></tr>\n",
       "<tr><td>Buffer         </td><td>         </td><td>                  </td><td>          </td><td>4.32 ml    </td><td>4.32 ml         </td><td>          </td><td>      </td></tr>\n",
       "<tr><td><em>Total:</em></td><td>         </td><td><em>125.00 mM</em></td><td><em>3</em></td><td>           </td><td><em>5.00 ml</em></td><td>          </td><td>      </td></tr>\n",
       "</tbody>\n",
       "</table>"
      ],
      "text/markdown": [
       "Table: Mix: 1x TE/10X Mg^2, Conc: 125.00 mM, Total Vol: 5.00 ml\n",
       "| Component   | [Src]     | [Dest]      | #   | Ea Tx Vol   | Tot Tx Vol   | Location   | Note   |\n",
       "|:------------|:----------|:------------|:----|:------------|:-------------|:-----------|:-------|\n",
       "| MgCl^2      | 1.00 M    | 125.00 mM   |     | 625.00 µl   | 625.00 µl    |            |        |\n",
       "| TE          | 100.00 mM | 1.00 mM     |     | 50.00 µl    | 50.00 µl     |            |        |\n",
       "| Buffer      |           |             |     | 4.32 ml     | 4.32 ml      |            |        |\n",
       "| *Total:*    |           | *125.00 mM* | *3* |             | *5.00 ml*    |            |        |"
      ],
      "text/plain": [
       "Mix(\"1x TE/10X Mg^2\", 2 actions)"
      ]
     },
     "execution_count": 8,
     "metadata": {},
     "output_type": "execute_result"
    }
   ],
   "source": [
    "mix = calculator.create_mix(\"1x TE/10X Mg^2\", \"5 mL\")\n",
    "mix"
   ]
  }
 ],
 "metadata": {
  "interpreter": {
   "hash": "e7370f93d1d0cde622a1f8e1c04877d8463912d04d973331ad4851f04de6915a"
  },
  "kernelspec": {
   "display_name": "Python 3.9.14 64-bit",
   "language": "python",
   "name": "python3"
  },
  "language_info": {
   "codemirror_mode": {
    "name": "ipython",
    "version": 3
   },
   "file_extension": ".py",
   "mimetype": "text/x-python",
   "name": "python",
   "nbconvert_exporter": "python",
   "pygments_lexer": "ipython3",
   "version": "3.9.14"
  },
  "orig_nbformat": 4
 },
 "nbformat": 4,
 "nbformat_minor": 2
}
