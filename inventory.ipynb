{
 "cells": [
  {
   "cell_type": "code",
   "execution_count": 1,
   "metadata": {
    "scrolled": true
   },
   "outputs": [
    {
     "data": {
      "application/vnd.jupyter.widget-view+json": {
       "model_id": "4796fa00b51a4a44b8c1eda390eea1ed",
       "version_major": 2,
       "version_minor": 0
      },
      "text/plain": [
       "Button(description='Add Component to Inventory', style=ButtonStyle())"
      ]
     },
     "metadata": {},
     "output_type": "display_data"
    },
    {
     "data": {
      "application/vnd.jupyter.widget-view+json": {
       "model_id": "b7459e90e18841369623fb171f863487",
       "version_major": 2,
       "version_minor": 0
      },
      "text/plain": [
       "Sheet(cells=(Cell(column_end=0, column_start=0, row_end=0, row_start=0, type='text', value='Component ID'), Ce…"
      ]
     },
     "metadata": {},
     "output_type": "display_data"
    }
   ],
   "source": [
    "import inventoryproto as ivp\n",
    "import ipywidgets as widgets\n",
    "import ipysheet \n",
    "from IPython.display import display\n",
    "\n",
    "inventory = ivp.Inventory()\n",
    "\n",
    "add_button = inventory.create_add_button()\n",
    "display(add_button)\n",
    "\n",
    "mixtureMenu = inventory.search_for_components()\n",
    "display(mixtureMenu)\n",
    "\n",
    "member = ivp.Member(\"Hawa\", \"Drammeh\")\n",
    "m1 = ivp.Component(member, \"MgCl\", \"10X\", False)\n",
    "m2 = ivp.Component(member, \"NaCl\", \"1X\", False)\n",
    "m3 = ivp.Component(member, \"HD\", \"1X\", False)\n",
    "\n",
    "\n",
    "\n",
    "inventory.add_component(m1) #should add and display\n",
    "inventory.add_component(m2) #should add and display, index 1\n",
    "\n",
    "\n",
    "inventory.display_inventory()\n",
    "\n",
    "\n",
    "\n",
    "\n",
    "\n",
    "\n"
   ]
  },
  {
   "cell_type": "code",
   "execution_count": 2,
   "metadata": {},
   "outputs": [],
   "source": [
    "\n",
    "inventory.add_component(m3);"
   ]
  },
  {
   "cell_type": "code",
   "execution_count": 3,
   "metadata": {},
   "outputs": [
    {
     "name": "stdout",
     "output_type": "stream",
     "text": [
      "MgCl_10X\n",
      "NaCl_1X\n",
      "HD_1X\n",
      "Component with ID  is not in the inventory!\n"
     ]
    },
    {
     "data": {
      "text/plain": [
       "False"
      ]
     },
     "execution_count": 3,
     "metadata": {},
     "output_type": "execute_result"
    }
   ],
   "source": [
    "inventory.find_component(\"\")"
   ]
  }
 ],
 "metadata": {
  "kernelspec": {
   "display_name": "Python 3 (ipykernel)",
   "language": "python",
   "name": "python3"
  },
  "language_info": {
   "codemirror_mode": {
    "name": "ipython",
    "version": 3
   },
   "file_extension": ".py",
   "mimetype": "text/x-python",
   "name": "python",
   "nbconvert_exporter": "python",
   "pygments_lexer": "ipython3",
   "version": "3.9.14"
  },
  "vscode": {
   "interpreter": {
    "hash": "e7370f93d1d0cde622a1f8e1c04877d8463912d04d973331ad4851f04de6915a"
   }
  }
 },
 "nbformat": 4,
 "nbformat_minor": 2
}
