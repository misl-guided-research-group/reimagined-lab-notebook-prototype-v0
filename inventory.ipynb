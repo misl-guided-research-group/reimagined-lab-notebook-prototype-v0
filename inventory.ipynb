{
 "cells": [
  {
   "cell_type": "code",
   "execution_count": 1,
   "metadata": {
    "scrolled": true
   },
   "outputs": [
    {
     "data": {
      "application/vnd.jupyter.widget-view+json": {
       "model_id": "34a0c54f93ae41b9a95312ee491294ce",
       "version_major": 2,
       "version_minor": 0
      },
      "text/plain": [
       "Button(description='Add Component', layout=Layout(display='flex', flex_flow='row'), style=ButtonStyle())"
      ]
     },
     "metadata": {},
     "output_type": "display_data"
    },
    {
     "data": {
      "application/vnd.jupyter.widget-view+json": {
       "model_id": "2a5f2493565c4a9ea777ed9735598a18",
       "version_major": 2,
       "version_minor": 0
      },
      "text/plain": [
       "Button(description='Remove Component', layout=Layout(display='flex', flex_flow='row'), style=ButtonStyle())"
      ]
     },
     "metadata": {},
     "output_type": "display_data"
    },
    {
     "data": {
      "application/vnd.jupyter.widget-view+json": {
       "model_id": "47fe4c6778c74ed29323296c93222c1b",
       "version_major": 2,
       "version_minor": 0
      },
      "text/plain": [
       "Button(description='Display All Components', layout=Layout(display='flex', flex_flow='row'), style=ButtonStyle…"
      ]
     },
     "metadata": {},
     "output_type": "display_data"
    },
    {
     "data": {
      "application/vnd.jupyter.widget-view+json": {
       "model_id": "19dcc9d8c6de4e6185a0add071c23531",
       "version_major": 2,
       "version_minor": 0
      },
      "text/plain": [
       "Button(description='Search for Component', layout=Layout(display='flex', flex_flow='row'), style=ButtonStyle()…"
      ]
     },
     "metadata": {},
     "output_type": "display_data"
    },
    {
     "data": {
      "application/vnd.jupyter.widget-view+json": {
       "model_id": "1048b08ffce24a00afc562160b562850",
       "version_major": 2,
       "version_minor": 0
      },
      "text/plain": [
       "Dropdown(description='Search for mixture:', options=('MgCI_10X', 'h20', 'NacI_1X'), value='MgCI_10X')"
      ]
     },
     "metadata": {},
     "output_type": "display_data"
    }
   ],
   "source": [
    "import inventoryproto as ivp\n",
    "import ipywidgets as widgets\n",
    "import ipysheet \n",
    "from IPython.display import display\n",
    "\n",
    "inventory = ivp.Inventory()\n",
    "\n",
    "#add_button = inventory.create_add_button()\n",
    "#display(add_button)\n",
    "\n",
    "mixtureMenu = inventory.search_for_components()\n",
    "display(mixtureMenu)\n",
    "\n",
    "member = ivp.Member(\"Hawa\", \"Drammeh\")\n",
    "m1 = ivp.Component(member, \"MgCl\", \"10X\", False)\n",
    "m2 = ivp.Component(member, \"NaCl\", \"1X\", False)\n",
    "m3 = ivp.Component(member, \"HD\", \"1X\", False)\n",
    "\n",
    "\n",
    "inventory.add_component(m1) #should add and display\n",
    "inventory.add_component(m2) #should add and display, index 1\n",
    "\n",
    "\n",
    "\n",
    "\n",
    "\n"
   ]
  },
  {
   "cell_type": "code",
   "execution_count": null,
   "metadata": {},
   "outputs": [],
   "source": [
    "\n",
    "inventory.add_component(m3);"
   ]
  },
  {
   "cell_type": "code",
   "execution_count": null,
   "metadata": {},
   "outputs": [],
   "source": [
    "inventory.find_component(\"\")"
   ]
  }
 ],
 "metadata": {
  "interpreter": {
   "hash": "31f2aee4e71d21fbe5cf8b01ff0e069b9275f58929596ceb00d14d90e3e16cd6"
  },
  "kernelspec": {
   "display_name": "Python 3.8.9 64-bit",
   "language": "python",
   "name": "python3"
  },
  "language_info": {
   "codemirror_mode": {
    "name": "ipython",
    "version": 3
   },
   "file_extension": ".py",
   "mimetype": "text/x-python",
   "name": "python",
   "nbconvert_exporter": "python",
   "pygments_lexer": "ipython3",
   "version": "3.9.14"
  },
  "vscode": {
   "interpreter": {
    "hash": "e7370f93d1d0cde622a1f8e1c04877d8463912d04d973331ad4851f04de6915a"
   }
  }
 },
 "nbformat": 4,
 "nbformat_minor": 2
}
