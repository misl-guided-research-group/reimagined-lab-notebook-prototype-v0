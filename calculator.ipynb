{
 "cells": [
  {
   "cell_type": "code",
   "execution_count": 1,
   "metadata": {},
   "outputs": [
    {
     "data": {
      "application/vnd.jupyter.widget-view+json": {
       "model_id": "e85c56ad8384418d9cc2bde63f2822d3",
       "version_major": 2,
       "version_minor": 0
      },
      "text/plain": [
       "ClippedIntText(value=1, description='Number of Components:')"
      ]
     },
     "metadata": {},
     "output_type": "display_data"
    },
    {
     "data": {
      "application/vnd.jupyter.widget-view+json": {
       "model_id": "6ff59cf8c0a34c9992f7bda51d4b08fa",
       "version_major": 2,
       "version_minor": 0
      },
      "text/plain": [
       "ClippedIntText(value=1, description='Number of Samples:')"
      ]
     },
     "metadata": {},
     "output_type": "display_data"
    },
    {
     "data": {
      "application/vnd.jupyter.widget-view+json": {
       "model_id": "72ec12cb77744b85ba67516c523ad577",
       "version_major": 2,
       "version_minor": 0
      },
      "text/plain": [
       "VBox()"
      ]
     },
     "metadata": {},
     "output_type": "display_data"
    },
    {
     "data": {
      "application/vnd.jupyter.widget-view+json": {
       "model_id": "60ae9b9c029340f1ada32e6ccc2c809d",
       "version_major": 2,
       "version_minor": 0
      },
      "text/plain": [
       "VBox()"
      ]
     },
     "metadata": {},
     "output_type": "display_data"
    },
    {
     "ename": "KeyError",
     "evalue": "'units'",
     "output_type": "error",
     "traceback": [
      "\u001b[1;31m---------------------------------------------------------------------------\u001b[0m",
      "\u001b[1;31mKeyError\u001b[0m                                  Traceback (most recent call last)",
      "File \u001b[1;32mc:\\Users\\doand\\AppData\\Local\\Programs\\Python\\Python310\\lib\\site-packages\\ipywidgets\\widgets\\widget.py:766\u001b[0m, in \u001b[0;36mWidget._handle_msg\u001b[1;34m(self, msg)\u001b[0m\n\u001b[0;32m    764\u001b[0m         \u001b[39mif\u001b[39;00m \u001b[39m'\u001b[39m\u001b[39mbuffer_paths\u001b[39m\u001b[39m'\u001b[39m \u001b[39min\u001b[39;00m data:\n\u001b[0;32m    765\u001b[0m             _put_buffers(state, data[\u001b[39m'\u001b[39m\u001b[39mbuffer_paths\u001b[39m\u001b[39m'\u001b[39m], msg[\u001b[39m'\u001b[39m\u001b[39mbuffers\u001b[39m\u001b[39m'\u001b[39m])\n\u001b[1;32m--> 766\u001b[0m         \u001b[39mself\u001b[39;49m\u001b[39m.\u001b[39;49mset_state(state)\n\u001b[0;32m    768\u001b[0m \u001b[39m# Handle a state request.\u001b[39;00m\n\u001b[0;32m    769\u001b[0m \u001b[39melif\u001b[39;00m method \u001b[39m==\u001b[39m \u001b[39m'\u001b[39m\u001b[39mrequest_state\u001b[39m\u001b[39m'\u001b[39m:\n",
      "File \u001b[1;32mc:\\Users\\doand\\AppData\\Local\\Programs\\Python\\Python310\\lib\\site-packages\\ipywidgets\\widgets\\widget.py:643\u001b[0m, in \u001b[0;36mWidget.set_state\u001b[1;34m(self, sync_data)\u001b[0m\n\u001b[0;32m    638\u001b[0m         \u001b[39mself\u001b[39m\u001b[39m.\u001b[39m_send(msg, buffers\u001b[39m=\u001b[39mecho_buffers)\n\u001b[0;32m    640\u001b[0m \u001b[39m# The order of these context managers is important. Properties must\u001b[39;00m\n\u001b[0;32m    641\u001b[0m \u001b[39m# be locked when the hold_trait_notification context manager is\u001b[39;00m\n\u001b[0;32m    642\u001b[0m \u001b[39m# released and notifications are fired.\u001b[39;00m\n\u001b[1;32m--> 643\u001b[0m \u001b[39mwith\u001b[39;00m \u001b[39mself\u001b[39m\u001b[39m.\u001b[39m_lock_property(\u001b[39m*\u001b[39m\u001b[39m*\u001b[39msync_data), \u001b[39mself\u001b[39m\u001b[39m.\u001b[39mhold_trait_notifications():\n\u001b[0;32m    644\u001b[0m     \u001b[39mfor\u001b[39;00m name \u001b[39min\u001b[39;00m sync_data:\n\u001b[0;32m    645\u001b[0m         \u001b[39mif\u001b[39;00m name \u001b[39min\u001b[39;00m \u001b[39mself\u001b[39m\u001b[39m.\u001b[39mkeys:\n",
      "File \u001b[1;32mc:\\Users\\doand\\AppData\\Local\\Programs\\Python\\Python310\\lib\\contextlib.py:142\u001b[0m, in \u001b[0;36m_GeneratorContextManager.__exit__\u001b[1;34m(self, typ, value, traceback)\u001b[0m\n\u001b[0;32m    140\u001b[0m \u001b[39mif\u001b[39;00m typ \u001b[39mis\u001b[39;00m \u001b[39mNone\u001b[39;00m:\n\u001b[0;32m    141\u001b[0m     \u001b[39mtry\u001b[39;00m:\n\u001b[1;32m--> 142\u001b[0m         \u001b[39mnext\u001b[39;49m(\u001b[39mself\u001b[39;49m\u001b[39m.\u001b[39;49mgen)\n\u001b[0;32m    143\u001b[0m     \u001b[39mexcept\u001b[39;00m \u001b[39mStopIteration\u001b[39;00m:\n\u001b[0;32m    144\u001b[0m         \u001b[39mreturn\u001b[39;00m \u001b[39mFalse\u001b[39;00m\n",
      "File \u001b[1;32m~\\AppData\\Roaming\\Python\\Python310\\site-packages\\traitlets\\traitlets.py:1502\u001b[0m, in \u001b[0;36mHasTraits.hold_trait_notifications\u001b[1;34m(self)\u001b[0m\n\u001b[0;32m   1500\u001b[0m \u001b[39mfor\u001b[39;00m changes \u001b[39min\u001b[39;00m cache\u001b[39m.\u001b[39mvalues():\n\u001b[0;32m   1501\u001b[0m     \u001b[39mfor\u001b[39;00m change \u001b[39min\u001b[39;00m changes:\n\u001b[1;32m-> 1502\u001b[0m         \u001b[39mself\u001b[39;49m\u001b[39m.\u001b[39;49mnotify_change(change)\n",
      "File \u001b[1;32mc:\\Users\\doand\\AppData\\Local\\Programs\\Python\\Python310\\lib\\site-packages\\ipywidgets\\widgets\\widget.py:694\u001b[0m, in \u001b[0;36mWidget.notify_change\u001b[1;34m(self, change)\u001b[0m\n\u001b[0;32m    691\u001b[0m     \u001b[39mif\u001b[39;00m name \u001b[39min\u001b[39;00m \u001b[39mself\u001b[39m\u001b[39m.\u001b[39mkeys \u001b[39mand\u001b[39;00m \u001b[39mself\u001b[39m\u001b[39m.\u001b[39m_should_send_property(name, \u001b[39mgetattr\u001b[39m(\u001b[39mself\u001b[39m, name)):\n\u001b[0;32m    692\u001b[0m         \u001b[39m# Send new state to front-end\u001b[39;00m\n\u001b[0;32m    693\u001b[0m         \u001b[39mself\u001b[39m\u001b[39m.\u001b[39msend_state(key\u001b[39m=\u001b[39mname)\n\u001b[1;32m--> 694\u001b[0m \u001b[39msuper\u001b[39;49m()\u001b[39m.\u001b[39;49mnotify_change(change)\n",
      "File \u001b[1;32m~\\AppData\\Roaming\\Python\\Python310\\site-packages\\traitlets\\traitlets.py:1517\u001b[0m, in \u001b[0;36mHasTraits.notify_change\u001b[1;34m(self, change)\u001b[0m\n\u001b[0;32m   1515\u001b[0m \u001b[39mdef\u001b[39;00m \u001b[39mnotify_change\u001b[39m(\u001b[39mself\u001b[39m, change):\n\u001b[0;32m   1516\u001b[0m \u001b[39m    \u001b[39m\u001b[39m\"\"\"Notify observers of a change event\"\"\"\u001b[39;00m\n\u001b[1;32m-> 1517\u001b[0m     \u001b[39mreturn\u001b[39;00m \u001b[39mself\u001b[39;49m\u001b[39m.\u001b[39;49m_notify_observers(change)\n",
      "File \u001b[1;32m~\\AppData\\Roaming\\Python\\Python310\\site-packages\\traitlets\\traitlets.py:1564\u001b[0m, in \u001b[0;36mHasTraits._notify_observers\u001b[1;34m(self, event)\u001b[0m\n\u001b[0;32m   1561\u001b[0m \u001b[39melif\u001b[39;00m \u001b[39misinstance\u001b[39m(c, EventHandler) \u001b[39mand\u001b[39;00m c\u001b[39m.\u001b[39mname \u001b[39mis\u001b[39;00m \u001b[39mnot\u001b[39;00m \u001b[39mNone\u001b[39;00m:\n\u001b[0;32m   1562\u001b[0m     c \u001b[39m=\u001b[39m \u001b[39mgetattr\u001b[39m(\u001b[39mself\u001b[39m, c\u001b[39m.\u001b[39mname)\n\u001b[1;32m-> 1564\u001b[0m c(event)\n",
      "Cell \u001b[1;32mIn[1], line 86\u001b[0m, in \u001b[0;36mon_num_components_change\u001b[1;34m(change)\u001b[0m\n\u001b[0;32m     84\u001b[0m \u001b[39mwhile\u001b[39;00m \u001b[39mlen\u001b[39m(sample[\u001b[39m'\u001b[39m\u001b[39mtarget_concs\u001b[39m\u001b[39m'\u001b[39m]) \u001b[39m<\u001b[39m num_components:\n\u001b[0;32m     85\u001b[0m     sample[\u001b[39m'\u001b[39m\u001b[39mtarget_concs\u001b[39m\u001b[39m'\u001b[39m]\u001b[39m.\u001b[39mappend(widgets\u001b[39m.\u001b[39mFloatText(description\u001b[39m=\u001b[39m\u001b[39mf\u001b[39m\u001b[39m'\u001b[39m\u001b[39mComponent \u001b[39m\u001b[39m{\u001b[39;00m\u001b[39mlen\u001b[39m(sample[\u001b[39m\"\u001b[39m\u001b[39mtarget_concs\u001b[39m\u001b[39m\"\u001b[39m])\u001b[39m \u001b[39m\u001b[39m+\u001b[39m\u001b[39m \u001b[39m\u001b[39m1\u001b[39m\u001b[39m}\u001b[39;00m\u001b[39m'\u001b[39m))\n\u001b[1;32m---> 86\u001b[0m     sample[\u001b[39m'\u001b[39;49m\u001b[39munits\u001b[39;49m\u001b[39m'\u001b[39;49m]\u001b[39m.\u001b[39mappend(widgets\u001b[39m.\u001b[39mDropdown(options\u001b[39m=\u001b[39munits[:component_widgets[\u001b[39mlen\u001b[39m(sample[\u001b[39m\"\u001b[39m\u001b[39mtarget_concs\u001b[39m\u001b[39m\"\u001b[39m])][\u001b[39m'\u001b[39m\u001b[39munit\u001b[39m\u001b[39m'\u001b[39m]\u001b[39m.\u001b[39mindex\u001b[39m+\u001b[39m\u001b[39m1\u001b[39m], description\u001b[39m=\u001b[39m\u001b[39m'\u001b[39m\u001b[39m'\u001b[39m))\n\u001b[0;32m     87\u001b[0m \u001b[39mwhile\u001b[39;00m \u001b[39mlen\u001b[39m(sample[\u001b[39m'\u001b[39m\u001b[39mtarget_concs\u001b[39m\u001b[39m'\u001b[39m]) \u001b[39m>\u001b[39m num_components:\n\u001b[0;32m     88\u001b[0m     sample[\u001b[39m'\u001b[39m\u001b[39mtarget_concs\u001b[39m\u001b[39m'\u001b[39m]\u001b[39m.\u001b[39mpop()\n",
      "\u001b[1;31mKeyError\u001b[0m: 'units'"
     ]
    }
   ],
   "source": [
    "# Import the necessary libraries\n",
    "import ipywidgets as widgets\n",
    "from IPython.display import display, clear_output\n",
    "\n",
    "class ClippedIntText(widgets.IntText):\n",
    "    def __init__(self, *args, **kwargs):\n",
    "        self._min = kwargs.pop('min', None)\n",
    "        self._max = kwargs.pop('max', None)\n",
    "        super().__init__(*args, **kwargs)\n",
    "        self.observe(self.validate, 'value')\n",
    "\n",
    "    def validate(self, change):\n",
    "        if self._min is not None and change['new'] < self._min:\n",
    "            self.value = self._min\n",
    "        elif self._max is not None and change['new'] > self._max:\n",
    "            self.value = self._max\n",
    "\n",
    "\n",
    "class ClippedFloatText(widgets.FloatText):\n",
    "    def __init__(self, *args, **kwargs):\n",
    "        self._min = kwargs.pop('min', None)\n",
    "        self._max = kwargs.pop('max', None)\n",
    "        super().__init__(*args, **kwargs)\n",
    "        self.observe(self.validate, 'value')\n",
    "\n",
    "    def validate(self, change):\n",
    "        if self._min is not None and change['new'] < self._min:\n",
    "            self.value = self._min\n",
    "        elif self._max is not None and change['new'] > self._max:\n",
    "            self.value = self._max\n",
    "\n",
    "\n",
    "# Create widgets for input of number of samples and components\n",
    "num_samples_input = ClippedIntText(description='Number of Samples:', value=1, min=1, max=10)\n",
    "num_components_input = ClippedIntText(description='Number of Components:', value=1, min=1, max=10)\n",
    "\n",
    "# Create output widgets where the form will be displayed\n",
    "output_components = widgets.VBox()\n",
    "output_samples = widgets.VBox()\n",
    "\n",
    "# Define the units that users can select\n",
    "units = ['nM', 'uM', 'mM', 'M']\n",
    "\n",
    "# Initialize the list of component widgets and sample widgets\n",
    "component_widgets = [{'name': widgets.Text(description='Component 1'),\n",
    "                      'initial_conc': widgets.FloatText(description='Initial Conc.'),\n",
    "                      'unit': widgets.Dropdown(options=units, description='Unit:')\n",
    "                     }]\n",
    "sample_widgets = [{'name': widgets.Text(description='Sample 1'),\n",
    "                   'target_concs': [widgets.FloatText(description='Component 1')]\n",
    "                  }]\n",
    "\n",
    "# Code for updating unit dropdowns when a component's unit changes\n",
    "def on_unit_change(change):\n",
    "    component_index = change['owner'].component_index\n",
    "    new_unit_index = units.index(change['new'])\n",
    "    for sample in sample_widgets:\n",
    "        sample['units'][component_index].options = units[:new_unit_index+1]\n",
    "\n",
    "# Update the list of component widgets when the number of components changes\n",
    "def on_num_components_change(change):\n",
    "    num_components = change['new']\n",
    "    # Prevent components being < 1 or > 10\n",
    "    if num_components < 1:\n",
    "        num_components_input.set_value(1)\n",
    "        return\n",
    "    elif num_components > 10:\n",
    "        num_components_input.set_value(10)\n",
    "        return\n",
    "    while len(component_widgets) < num_components:\n",
    "        i = len(component_widgets) + 1\n",
    "        unit_dropdown = widgets.Dropdown(options=units, description='Unit:', component_index=i-1)\n",
    "        unit_dropdown.observe(on_unit_change, names='value')\n",
    "        component_widgets.append({\n",
    "            'name': widgets.Text(description=f'Component {i}'),\n",
    "            'initial_conc': widgets.FloatText(description='Initial Conc.'),\n",
    "            'unit': unit_dropdown\n",
    "        })\n",
    "    while len(component_widgets) > num_components:\n",
    "        component_widgets.pop()\n",
    "\n",
    "    # Update the target concentration inputs and units in the sample form\n",
    "    for sample in sample_widgets:\n",
    "        while len(sample['target_concs']) < num_components:\n",
    "            sample['target_concs'].append(widgets.FloatText(description=f'Component {len(sample[\"target_concs\"]) + 1}'))\n",
    "            sample['units'].append(widgets.Dropdown(options=units[:component_widgets[len(sample[\"target_concs\"])]['unit'].index+1], description=''))\n",
    "        while len(sample['target_concs']) > num_components:\n",
    "            sample['target_concs'].pop()\n",
    "            sample['units'].pop()\n",
    "\n",
    "    # Refresh the display\n",
    "    display_forms()\n",
    "\n",
    "# Update the list of sample widgets when the number of samples changes\n",
    "def on_num_samples_change(change):\n",
    "    num_samples = change['new']\n",
    "    # Prevent samples being < 1 or > 10\n",
    "    if num_samples < 1:\n",
    "        num_samples_input.set_value(1)\n",
    "        return\n",
    "    elif num_samples > 10:\n",
    "        num_samples_input.set_value(10)\n",
    "        return\n",
    "    while len(sample_widgets) < num_samples:\n",
    "        i = len(sample_widgets) + 1\n",
    "        sample_widgets.append({\n",
    "            'name': widgets.Text(description=f'Sample {i}'),\n",
    "            'target_concs': [widgets.FloatText(description=f'Component {j+1}') for j in range(len(component_widgets))],\n",
    "            'units': [widgets.Dropdown(options=units[:component_widgets[j]['unit'].index+1], description='') for j in range(len(component_widgets))]\n",
    "        })\n",
    "    while len(sample_widgets) > num_samples:\n",
    "        sample_widgets.pop()\n",
    "\n",
    "    # Refresh the display\n",
    "    display_forms()\n",
    "\n",
    "# Create the input and sample forms based on the current component and sample widgets\n",
    "def create_input_form():\n",
    "    component_name_inputs = [component['name'] for component in component_widgets]\n",
    "    initial_concentration_inputs = [widgets.HBox([component['initial_conc'], component['unit']]) for component in component_widgets]\n",
    "    input_form = widgets.VBox([widgets.HBox([name_input, concentration_input]) for name_input, concentration_input in zip(component_name_inputs, initial_concentration_inputs)])\n",
    "    return input_form\n",
    "\n",
    "def create_sample_form():\n",
    "    sample_name_inputs = [sample['name'] for sample in sample_widgets]\n",
    "    component_concentration_inputs = [[target_conc for target_conc in sample['target_concs']] for sample in sample_widgets]\n",
    "    sample_form = widgets.VBox([widgets.HBox([name_input, widgets.VBox(target_conc_inputs)]) for name_input, target_conc_inputs in zip(sample_name_inputs, component_concentration_inputs)])\n",
    "    return sample_form\n",
    "\n",
    "# Display the input and sample forms\n",
    "def display_forms():\n",
    "    # Create the input and sample forms\n",
    "    input_form = create_input_form()\n",
    "    sample_form = create_sample_form()\n",
    "\n",
    "    # Update the children of the VBox widgets\n",
    "    output_components.children = [input_form]\n",
    "    output_samples.children = [sample_form]\n",
    "\n",
    "\n",
    "# Listen for changes in the number of components and samples\n",
    "num_components_input.observe(on_num_components_change, names='value')\n",
    "num_samples_input.observe(on_num_samples_change, names='value')\n",
    "\n",
    "# Display the widgets for entering the number of components and samples\n",
    "display(num_components_input)\n",
    "display(num_samples_input)\n",
    "\n",
    "# Display the output widgets\n",
    "display(output_components)\n",
    "display(output_samples)\n",
    "\n",
    "# Display the initial input and sample forms\n",
    "display_forms()\n"
   ]
  }
 ],
 "metadata": {
  "kernelspec": {
   "display_name": "Python 3",
   "language": "python",
   "name": "python3"
  },
  "language_info": {
   "codemirror_mode": {
    "name": "ipython",
    "version": 3
   },
   "file_extension": ".py",
   "mimetype": "text/x-python",
   "name": "python",
   "nbconvert_exporter": "python",
   "pygments_lexer": "ipython3",
   "version": "3.10.10"
  },
  "orig_nbformat": 4
 },
 "nbformat": 4,
 "nbformat_minor": 2
}
