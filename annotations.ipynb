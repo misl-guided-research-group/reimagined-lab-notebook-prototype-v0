{
 "cells": [
  {
   "cell_type": "code",
   "execution_count": null,
   "metadata": {},
   "outputs": [
    {
     "data": {
      "application/vnd.jupyter.widget-view+json": {
       "model_id": "47beb641f3eb40129e0a68e6b0e37044",
       "version_major": 2,
       "version_minor": 0
      },
      "text/plain": [
       "HBox(children=(Dropdown(description='Annotation type:', options=('Comment', 'Question', 'Suggestion'), value='…"
      ]
     },
     "metadata": {},
     "output_type": "display_data"
    },
    {
     "data": {
      "application/javascript": "IPython.notebook.get_selected_cell().code_mirror.setOption(\"readOnly\", true);",
      "text/plain": [
       "<IPython.core.display.Javascript object>"
      ]
     },
     "metadata": {},
     "output_type": "display_data"
    },
    {
     "data": {
      "application/javascript": "IPython.notebook.get_selected_cell().code_mirror.on(\"mousedown\", handle_click);",
      "text/plain": [
       "<IPython.core.display.Javascript object>"
      ]
     },
     "metadata": {},
     "output_type": "display_data"
    },
    {
     "data": {
      "application/javascript": "IPython.notebook.get_selected_cell().code_mirror.setOption(\"readOnly\", false);",
      "text/plain": [
       "<IPython.core.display.Javascript object>"
      ]
     },
     "metadata": {},
     "output_type": "display_data"
    },
    {
     "data": {
      "application/javascript": "IPython.notebook.get_selected_cell().code_mirror.off(\"mousedown\", handle_click);",
      "text/plain": [
       "<IPython.core.display.Javascript object>"
      ]
     },
     "metadata": {},
     "output_type": "display_data"
    },
    {
     "data": {
      "application/javascript": "IPython.notebook.get_selected_cell().code_mirror.setOption(\"readOnly\", true);",
      "text/plain": [
       "<IPython.core.display.Javascript object>"
      ]
     },
     "metadata": {},
     "output_type": "display_data"
    },
    {
     "data": {
      "application/javascript": "IPython.notebook.get_selected_cell().code_mirror.on(\"mousedown\", handle_click);",
      "text/plain": [
       "<IPython.core.display.Javascript object>"
      ]
     },
     "metadata": {},
     "output_type": "display_data"
    }
   ],
   "source": [
    "# import necessary modules\n",
    "from IPython.display import display, Markdown\n",
    "import ipywidgets as widgets\n",
    "\n",
    "# initialize empty string for markdown text\n",
    "markdown_text = \"\"\n",
    "\n",
    "# create header widgets\n",
    "header_button = widgets.Button(description='Add Header')\n",
    "header_text = widgets.Text(description='Header text')\n",
    "header_level = widgets.Dropdown(\n",
    "    options=['1', '2', '3', '4', '5', '6'],\n",
    "    value='1',\n",
    "    description='Level:'\n",
    ")\n",
    "\n",
    "# define function to add header text to markdown\n",
    "def add_header(self):\n",
    "    global markdown_text # use global variable\n",
    "    header_markdown = '#' * int(header_level.value) + ' ' + header_text.value\n",
    "    markdown_text += f\"- {header_markdown}\\n\"\n",
    "\n",
    "# assign function to button click event\n",
    "header_button.on_click(add_header)\n",
    "\n",
    "# create bullet point widgets\n",
    "bullet_button = widgets.Button(description='Add Bullet Point')\n",
    "bullet_text = widgets.Text(description='Bullet text')\n",
    "\n",
    "# define function to add bullet point text to markdown\n",
    "def add_bullet(self):\n",
    "    global markdown_text # use global variable\n",
    "    bullet_markdown = '- ' + bullet_text.value\n",
    "    markdown_text += f\"- {bullet_markdown}\\n\"\n",
    "\n",
    "# assign function to button click event\n",
    "bullet_button.on_click(add_bullet)\n",
    "\n",
    "# create text input widget\n",
    "text_input = widgets.Textarea(description='Text input', layout=widgets.Layout(width='300px', height='100px'))\n",
    "\n",
    "# create text button widget\n",
    "text_button = widgets.Button(description='Add Text')\n",
    "\n",
    "# define function to add text input to markdown\n",
    "def add_text(self):\n",
    "    global markdown_text # use global variable\n",
    "    markdown_text += f\"{text_input.value}\\n\"\n",
    "\n",
    "# assign function to button click event\n",
    "text_button.on_click(add_text)\n",
    "\n",
    "# create display button widget\n",
    "display_button = widgets.Button(description='Display Text')\n",
    "\n",
    "# define function to display markdown text as Markdown widget\n",
    "def display_text(self):\n",
    "    display(Markdown(markdown_text))\n",
    "\n",
    "# assign function to button click event\n",
    "display_button.on_click(display_text)\n",
    "\n",
    "# display all widgets in a vertical box\n",
    "display(widgets.VBox([header_button, header_text, header_level, bullet_button, bullet_text, text_button, text_input, display_button]))\n",
    "\n"
   ]
  }
 ],
 "metadata": {
  "kernelspec": {
   "display_name": "Python 3",
   "language": "python",
   "name": "python3"
  },
  "language_info": {
   "codemirror_mode": {
    "name": "ipython",
    "version": 3
   },
   "file_extension": ".py",
   "mimetype": "text/x-python",
   "name": "python",
   "nbconvert_exporter": "python",
   "pygments_lexer": "ipython3",
   "version": "3.10.10"
  },
  "orig_nbformat": 4
 },
 "nbformat": 4,
 "nbformat_minor": 2
}
