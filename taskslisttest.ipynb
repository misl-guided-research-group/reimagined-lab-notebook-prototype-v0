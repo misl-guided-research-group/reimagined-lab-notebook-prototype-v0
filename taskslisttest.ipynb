{
 "cells": [
  {
   "cell_type": "code",
   "execution_count": 1,
   "metadata": {},
   "outputs": [
    {
     "data": {
      "application/vnd.jupyter.widget-view+json": {
       "model_id": "cac1c9195b534a9884f3f27a7d1590e9",
       "version_major": 2,
       "version_minor": 0
      },
      "text/plain": [
       "VBox(children=(Checkbox(value=False, description='Task 1'), Checkbox(value=False, description='Task 2'), Check…"
      ]
     },
     "metadata": {},
     "output_type": "display_data"
    }
   ],
   "source": [
    "import taskslist as tk \n",
    "\n",
    "task_list = tk.TaskList()\n",
    "task_list.add_task('Task 1')\n",
    "task_list.add_task('Task 2')\n",
    "task_list.add_task('Task 3')\n",
    "task_list_widget = task_list.get_task_list_widget()\n",
    "display(task_list_widget)"
   ]
  }
 ],
 "metadata": {
  "kernelspec": {
   "display_name": "Python 3",
   "language": "python",
   "name": "python3"
  },
  "language_info": {
   "codemirror_mode": {
    "name": "ipython",
    "version": 3
   },
   "file_extension": ".py",
   "mimetype": "text/x-python",
   "name": "python",
   "nbconvert_exporter": "python",
   "pygments_lexer": "ipython3",
   "version": "3.10.10"
  },
  "orig_nbformat": 4
 },
 "nbformat": 4,
 "nbformat_minor": 2
}
