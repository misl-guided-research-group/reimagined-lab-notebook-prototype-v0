{
 "cells": [
  {
   "cell_type": "code",
   "execution_count": 3,
   "metadata": {
    "scrolled": true
   },
   "outputs": [
    {
     "data": {
      "application/vnd.jupyter.widget-view+json": {
       "model_id": "4ccfa9c06f7244ad8ca0e68cc10eaa71",
       "version_major": 2,
       "version_minor": 0
      },
      "text/plain": [
       "Button(description='Add Component', layout=Layout(display='flex', flex_flow='row'), style=ButtonStyle())"
      ]
     },
     "metadata": {},
     "output_type": "display_data"
    },
    {
     "data": {
      "application/vnd.jupyter.widget-view+json": {
       "model_id": "39c011c613ce452fb38ff5abb0b4d5db",
       "version_major": 2,
       "version_minor": 0
      },
      "text/plain": [
       "Button(description='Remove Component', layout=Layout(display='flex', flex_flow='row'), style=ButtonStyle())"
      ]
     },
     "metadata": {},
     "output_type": "display_data"
    },
    {
     "data": {
      "application/vnd.jupyter.widget-view+json": {
       "model_id": "fe1f3db7e27f4e7499410562f1e09aa2",
       "version_major": 2,
       "version_minor": 0
      },
      "text/plain": [
       "Button(description='Display All Components', layout=Layout(display='flex', flex_flow='row'), style=ButtonStyle…"
      ]
     },
     "metadata": {},
     "output_type": "display_data"
    },
    {
     "data": {
      "application/vnd.jupyter.widget-view+json": {
       "model_id": "fee2c65b48c5438384993a5bd53a5def",
       "version_major": 2,
       "version_minor": 0
      },
      "text/plain": [
       "Button(description='Search for Component', layout=Layout(display='flex', flex_flow='row'), style=ButtonStyle()…"
      ]
     },
     "metadata": {},
     "output_type": "display_data"
    },
    {
     "data": {
      "application/vnd.jupyter.widget-view+json": {
       "model_id": "4998575ec6b64383822db33648ce4baf",
       "version_major": 2,
       "version_minor": 0
      },
      "text/plain": [
       "Dropdown(description='Search for mixture:', options=('MgCI_10X', 'h20', 'NacI_1X'), value='MgCI_10X')"
      ]
     },
     "metadata": {},
     "output_type": "display_data"
    }
   ],
   "source": [
    "import inventory as ivp\n",
    "import ipywidgets as widgets\n",
    "import ipysheet \n",
    "from IPython.display import display\n",
    "\n",
    "inventory = ivp.Inventory()\n",
    "\n",
    "#add_button = inventory.create_add_button()\n",
    "#display(add_button)\n",
    "\n",
    "mixtureMenu = inventory.search_for_components()\n",
    "display(mixtureMenu)\n",
    "\n",
    "member = ivp.Member(\"Hawa\", \"Drammeh\")\n",
    "m1 = ivp.Component(member, \"MgCl\", \"10X\", False)\n",
    "m2 = ivp.Component(member, \"NaCl\", \"1X\", False)\n",
    "m3 = ivp.Component(member, \"HD\", \"1X\", False)\n",
    "\n",
    "\n",
    "inventory.add_component(m1) #should add and display\n",
    "inventory.add_component(m2) #should add and display, index 1\n",
    "\n",
    "\n",
    "\n",
    "\n",
    "\n"
   ]
  },
  {
   "cell_type": "code",
   "execution_count": 2,
   "metadata": {},
   "outputs": [],
   "source": [
    "\n",
    "inventory.add_component(m3);"
   ]
  },
  {
   "cell_type": "code",
   "execution_count": null,
   "metadata": {},
   "outputs": [],
   "source": [
    "inventory.find_component(\"\")"
   ]
  }
 ],
 "metadata": {
  "interpreter": {
   "hash": "31f2aee4e71d21fbe5cf8b01ff0e069b9275f58929596ceb00d14d90e3e16cd6"
  },
  "kernelspec": {
   "display_name": "Python 3 (ipykernel)",
   "language": "python",
   "name": "python3"
  },
  "language_info": {
   "codemirror_mode": {
    "name": "ipython",
    "version": 3
   },
   "file_extension": ".py",
   "mimetype": "text/x-python",
   "name": "python",
   "nbconvert_exporter": "python",
   "pygments_lexer": "ipython3",
   "version": "3.8.9"
  },
  "varInspector": {
   "cols": {
    "lenName": 16,
    "lenType": 16,
    "lenVar": 40
   },
   "kernels_config": {
    "python": {
     "delete_cmd_postfix": "",
     "delete_cmd_prefix": "del ",
     "library": "var_list.py",
     "varRefreshCmd": "print(var_dic_list())"
    },
    "r": {
     "delete_cmd_postfix": ") ",
     "delete_cmd_prefix": "rm(",
     "library": "var_list.r",
     "varRefreshCmd": "cat(var_dic_list()) "
    }
   },
   "types_to_exclude": [
    "module",
    "function",
    "builtin_function_or_method",
    "instance",
    "_Feature"
   ],
   "window_display": false
  },
  "vscode": {
   "interpreter": {
    "hash": "e7370f93d1d0cde622a1f8e1c04877d8463912d04d973331ad4851f04de6915a"
   }
  }
 },
 "nbformat": 4,
 "nbformat_minor": 2
}
